{
 "cells": [
  {
   "cell_type": "markdown",
   "metadata": {},
   "source": [
    "# Python Homework with Chipotle data"
   ]
  },
  {
   "cell_type": "markdown",
   "metadata": {},
   "source": [
    "### BASIC LEVEL\n",
    "PART 1: Read in the file with csv.reader() and store it in an object called 'file_nested_list'.\n",
    "Hint: This is a TSV file, and csv.reader() needs to be told how to handle it.\n",
    "      https://docs.python.org/2/library/csv.html"
   ]
  },
  {
   "cell_type": "code",
   "execution_count": 1,
   "metadata": {
    "collapsed": true
   },
   "outputs": [],
   "source": [
    "import csv \n",
    "with open('data/order.tsv') as f:\n",
    "    file_nested_list = [row for row in csv.reader(f, delimiter='\\t')]"
   ]
  },
  {
   "cell_type": "markdown",
   "metadata": {},
   "source": [
    "### BASIC LEVEL\n",
    "PART 2: Separate 'file_nested_list' into the 'header' and the 'data'."
   ]
  },
  {
   "cell_type": "code",
   "execution_count": 2,
   "metadata": {
    "collapsed": true
   },
   "outputs": [],
   "source": [
    "header = file_nested_list[0]\n",
    "data = file_nested_list[1:]"
   ]
  },
  {
   "cell_type": "markdown",
   "metadata": {},
   "source": [
    "### INTERMEDIATE LEVEL\n",
    "PART 3: Calculate the average price of an order.\n",
    "Hint: Examine the data to see if the 'quantity' column is relevant to this calculation.\n",
    "Hint: Think carefully about the simplest way to do this!"
   ]
  },
  {
   "cell_type": "code",
   "execution_count": 3,
   "metadata": {},
   "outputs": [
    {
     "name": "stdout",
     "output_type": "stream",
     "text": [
      "18.81\n"
     ]
    }
   ],
   "source": [
    "totalPrice = reduce(lambda acc, x: acc + float(x[-1][1:]),data, 0)\n",
    "totalOrders = len(set([x[0] for x in data]))\n",
    "averagePrice = round(totalPrice / totalOrders, 2)\n",
    "print averagePrice"
   ]
  },
  {
   "cell_type": "markdown",
   "metadata": {},
   "source": [
    "### INTERMEDIATE LEVEL\n",
    "PART 4: Create a list (or set) of all unique sodas and soft drinks that they sell.\n",
    "Note: Just look for 'Canned Soda' and 'Canned Soft Drink', and ignore other drinks like 'Izze'."
   ]
  },
  {
   "cell_type": "code",
   "execution_count": 4,
   "metadata": {},
   "outputs": [
    {
     "name": "stdout",
     "output_type": "stream",
     "text": [
      "set(['[Lemonade]', '[Dr. Pepper]', '[Diet Coke]', '[Nestea]', '[Mountain Dew]', '[Diet Dr. Pepper]', '[Coke]', '[Coca Cola]', '[Sprite]'])\n"
     ]
    }
   ],
   "source": [
    "listOfSodaAndSoftDrink = set([x[3] for x in data if 'Canned' in x[2]])\n",
    "print listOfSodaAndSoftDrink"
   ]
  },
  {
   "cell_type": "markdown",
   "metadata": {},
   "source": [
    "### ADVANCED LEVEL\n",
    "PART 5: Calculate the average number of toppings per burrito.\n",
    "Note: Let's ignore the 'quantity' column to simplify this task.\n",
    "Hint: Think carefully about the easiest way to count the number of toppings!"
   ]
  },
  {
   "cell_type": "code",
   "execution_count": 5,
   "metadata": {},
   "outputs": [
    {
     "name": "stdout",
     "output_type": "stream",
     "text": [
      "5.4\n"
     ]
    }
   ],
   "source": [
    "burritos = [x for x in data if 'Burrito' in x[2]]\n",
    "numberOfToppings = sum([x[3].count(',') + 1 for x in burritos])\n",
    "averageOfToppings = round(numberOfToppings / float(len(burritos)), 2)\n",
    "print averageOfToppings"
   ]
  },
  {
   "cell_type": "markdown",
   "metadata": {},
   "source": [
    "### ADVANCED LEVEL\n",
    "PART 6: Create a dictionary in which the keys represent chip orders and\n",
    "  the values represent the total number of orders.\n",
    "Expected output: {'Chips and Roasted Chili-Corn Salsa': 18, ... }\n",
    "Note: Please take the 'quantity' column into account!\n",
    "Optional: Learn how to use 'defaultdict' to simplify your code."
   ]
  },
  {
   "cell_type": "code",
   "execution_count": 6,
   "metadata": {},
   "outputs": [
    {
     "name": "stdout",
     "output_type": "stream",
     "text": [
      "defaultdict(<type 'int'>, {'Veggie Salad': 6, 'Barbacoa Burrito': 91, 'Veggie Salad Bowl': 18, 'Steak Soft Tacos': 56, 'Steak Salad Bowl': 31, 'Chips and Tomatillo-Green Chili Salsa': 33, 'Side of Chips': 110, 'Burrito': 6, 'Barbacoa Crispy Tacos': 12, 'Nantucket Nectar': 29, 'Chicken Crispy Tacos': 50, 'Carnitas Soft Tacos': 40, 'Salad': 2, 'Chips and Tomatillo-Red Chili Salsa': 25, 'Steak Crispy Tacos': 36, 'Chips and Mild Fresh Tomato Salsa': 1, 'Veggie Burrito': 97, 'Steak Salad': 4, 'Carnitas Crispy Tacos': 8, '6 Pack Soft Drink': 55, 'Barbacoa Bowl': 66, 'Canned Soft Drink': 351, 'Chips': 230, 'Steak Bowl': 221, 'Chips and Roasted Chili-Corn Salsa': 18, 'Carnitas Burrito': 60, 'Steak Burrito': 386, 'Chicken Salad Bowl': 123, 'Chips and Guacamole': 506, 'Chicken Soft Tacos': 120, 'Crispy Tacos': 2, 'Veggie Bowl': 87, 'Veggie Crispy Tacos': 1, 'Chicken Salad': 9, 'Barbacoa Soft Tacos': 25, 'Canned Soda': 126, 'Bowl': 4, 'Barbacoa Salad Bowl': 10, 'Carnitas Bowl': 71, 'Izze': 20, 'Chicken Bowl': 761, 'Chips and Fresh Tomato Salsa': 130, 'Chicken Burrito': 591, 'Carnitas Salad': 1, 'Carnitas Salad Bowl': 6, 'Chips and Tomatillo Red Chili Salsa': 50, 'Chips and Roasted Chili Corn Salsa': 23, 'Bottled Water': 211, 'Veggie Soft Tacos': 8, 'Chips and Tomatillo Green Chili Salsa': 45})\n"
     ]
    }
   ],
   "source": [
    "from collections import defaultdict\n",
    "def buildChipDict(acc, x):\n",
    "    acc[x[2]] += int(x[1])\n",
    "    return acc\n",
    "chipOrder = reduce(buildChipDict, data, defaultdict(int))\n",
    "print chipOrder"
   ]
  }
 ],
 "metadata": {
  "kernelspec": {
   "display_name": "Python 2",
   "language": "python",
   "name": "python2"
  },
  "language_info": {
   "codemirror_mode": {
    "name": "ipython",
    "version": 2
   },
   "file_extension": ".py",
   "mimetype": "text/x-python",
   "name": "python",
   "nbconvert_exporter": "python",
   "pygments_lexer": "ipython2",
   "version": "2.7.13"
  }
 },
 "nbformat": 4,
 "nbformat_minor": 2
}
